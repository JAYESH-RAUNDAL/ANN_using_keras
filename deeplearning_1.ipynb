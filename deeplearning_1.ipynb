{
 "cells": [
  {
   "cell_type": "code",
   "execution_count": 1,
   "metadata": {},
   "outputs": [],
   "source": [
    "# Artificial Neural Network\n",
    "\n",
    "\n",
    "# Part 1 - Data Preprocessing\n",
    "\n",
    "# Importing the libraries\n",
    "import numpy as np\n",
    "import matplotlib.pyplot as plt\n",
    "import pandas as pd"
   ]
  },
  {
   "cell_type": "code",
   "execution_count": 2,
   "metadata": {},
   "outputs": [],
   "source": [
    "# Importing the dataset\n",
    "dataset = pd.read_csv('Churn_Modelling.csv')"
   ]
  },
  {
   "cell_type": "code",
   "execution_count": 3,
   "metadata": {},
   "outputs": [
    {
     "data": {
      "text/html": [
       "<div>\n",
       "<style scoped>\n",
       "    .dataframe tbody tr th:only-of-type {\n",
       "        vertical-align: middle;\n",
       "    }\n",
       "\n",
       "    .dataframe tbody tr th {\n",
       "        vertical-align: top;\n",
       "    }\n",
       "\n",
       "    .dataframe thead th {\n",
       "        text-align: right;\n",
       "    }\n",
       "</style>\n",
       "<table border=\"1\" class=\"dataframe\">\n",
       "  <thead>\n",
       "    <tr style=\"text-align: right;\">\n",
       "      <th></th>\n",
       "      <th>RowNumber</th>\n",
       "      <th>CustomerId</th>\n",
       "      <th>Surname</th>\n",
       "      <th>CreditScore</th>\n",
       "      <th>Geography</th>\n",
       "      <th>Gender</th>\n",
       "      <th>Age</th>\n",
       "      <th>Tenure</th>\n",
       "      <th>Balance</th>\n",
       "      <th>NumOfProducts</th>\n",
       "      <th>HasCrCard</th>\n",
       "      <th>IsActiveMember</th>\n",
       "      <th>EstimatedSalary</th>\n",
       "      <th>Exited</th>\n",
       "    </tr>\n",
       "  </thead>\n",
       "  <tbody>\n",
       "    <tr>\n",
       "      <th>0</th>\n",
       "      <td>1</td>\n",
       "      <td>15634602</td>\n",
       "      <td>Hargrave</td>\n",
       "      <td>619</td>\n",
       "      <td>France</td>\n",
       "      <td>Female</td>\n",
       "      <td>42</td>\n",
       "      <td>2</td>\n",
       "      <td>0.00</td>\n",
       "      <td>1</td>\n",
       "      <td>1</td>\n",
       "      <td>1</td>\n",
       "      <td>101348.88</td>\n",
       "      <td>1</td>\n",
       "    </tr>\n",
       "    <tr>\n",
       "      <th>1</th>\n",
       "      <td>2</td>\n",
       "      <td>15647311</td>\n",
       "      <td>Hill</td>\n",
       "      <td>608</td>\n",
       "      <td>Spain</td>\n",
       "      <td>Female</td>\n",
       "      <td>41</td>\n",
       "      <td>1</td>\n",
       "      <td>83807.86</td>\n",
       "      <td>1</td>\n",
       "      <td>0</td>\n",
       "      <td>1</td>\n",
       "      <td>112542.58</td>\n",
       "      <td>0</td>\n",
       "    </tr>\n",
       "    <tr>\n",
       "      <th>2</th>\n",
       "      <td>3</td>\n",
       "      <td>15619304</td>\n",
       "      <td>Onio</td>\n",
       "      <td>502</td>\n",
       "      <td>France</td>\n",
       "      <td>Female</td>\n",
       "      <td>42</td>\n",
       "      <td>8</td>\n",
       "      <td>159660.80</td>\n",
       "      <td>3</td>\n",
       "      <td>1</td>\n",
       "      <td>0</td>\n",
       "      <td>113931.57</td>\n",
       "      <td>1</td>\n",
       "    </tr>\n",
       "    <tr>\n",
       "      <th>3</th>\n",
       "      <td>4</td>\n",
       "      <td>15701354</td>\n",
       "      <td>Boni</td>\n",
       "      <td>699</td>\n",
       "      <td>France</td>\n",
       "      <td>Female</td>\n",
       "      <td>39</td>\n",
       "      <td>1</td>\n",
       "      <td>0.00</td>\n",
       "      <td>2</td>\n",
       "      <td>0</td>\n",
       "      <td>0</td>\n",
       "      <td>93826.63</td>\n",
       "      <td>0</td>\n",
       "    </tr>\n",
       "    <tr>\n",
       "      <th>4</th>\n",
       "      <td>5</td>\n",
       "      <td>15737888</td>\n",
       "      <td>Mitchell</td>\n",
       "      <td>850</td>\n",
       "      <td>Spain</td>\n",
       "      <td>Female</td>\n",
       "      <td>43</td>\n",
       "      <td>2</td>\n",
       "      <td>125510.82</td>\n",
       "      <td>1</td>\n",
       "      <td>1</td>\n",
       "      <td>1</td>\n",
       "      <td>79084.10</td>\n",
       "      <td>0</td>\n",
       "    </tr>\n",
       "  </tbody>\n",
       "</table>\n",
       "</div>"
      ],
      "text/plain": [
       "   RowNumber  CustomerId   Surname  CreditScore Geography  Gender  Age  \\\n",
       "0          1    15634602  Hargrave          619    France  Female   42   \n",
       "1          2    15647311      Hill          608     Spain  Female   41   \n",
       "2          3    15619304      Onio          502    France  Female   42   \n",
       "3          4    15701354      Boni          699    France  Female   39   \n",
       "4          5    15737888  Mitchell          850     Spain  Female   43   \n",
       "\n",
       "   Tenure    Balance  NumOfProducts  HasCrCard  IsActiveMember  \\\n",
       "0       2       0.00              1          1               1   \n",
       "1       1   83807.86              1          0               1   \n",
       "2       8  159660.80              3          1               0   \n",
       "3       1       0.00              2          0               0   \n",
       "4       2  125510.82              1          1               1   \n",
       "\n",
       "   EstimatedSalary  Exited  \n",
       "0        101348.88       1  \n",
       "1        112542.58       0  \n",
       "2        113931.57       1  \n",
       "3         93826.63       0  \n",
       "4         79084.10       0  "
      ]
     },
     "execution_count": 3,
     "metadata": {},
     "output_type": "execute_result"
    }
   ],
   "source": [
    "dataset.head()"
   ]
  },
  {
   "cell_type": "code",
   "execution_count": 4,
   "metadata": {},
   "outputs": [
    {
     "name": "stdout",
     "output_type": "stream",
     "text": [
      "14\n"
     ]
    },
    {
     "data": {
      "text/plain": [
       "Index(['RowNumber', 'CustomerId', 'Surname', 'CreditScore', 'Geography',\n",
       "       'Gender', 'Age', 'Tenure', 'Balance', 'NumOfProducts', 'HasCrCard',\n",
       "       'IsActiveMember', 'EstimatedSalary', 'Exited'],\n",
       "      dtype='object')"
      ]
     },
     "execution_count": 4,
     "metadata": {},
     "output_type": "execute_result"
    }
   ],
   "source": [
    "c=dataset.columns\n",
    "print(c.size)\n",
    "c"
   ]
  },
  {
   "cell_type": "code",
   "execution_count": 5,
   "metadata": {},
   "outputs": [
    {
     "data": {
      "text/html": [
       "<div>\n",
       "<style scoped>\n",
       "    .dataframe tbody tr th:only-of-type {\n",
       "        vertical-align: middle;\n",
       "    }\n",
       "\n",
       "    .dataframe tbody tr th {\n",
       "        vertical-align: top;\n",
       "    }\n",
       "\n",
       "    .dataframe thead th {\n",
       "        text-align: right;\n",
       "    }\n",
       "</style>\n",
       "<table border=\"1\" class=\"dataframe\">\n",
       "  <thead>\n",
       "    <tr style=\"text-align: right;\">\n",
       "      <th></th>\n",
       "      <th>RowNumber</th>\n",
       "      <th>CustomerId</th>\n",
       "      <th>CreditScore</th>\n",
       "      <th>Age</th>\n",
       "      <th>Tenure</th>\n",
       "      <th>Balance</th>\n",
       "      <th>NumOfProducts</th>\n",
       "      <th>HasCrCard</th>\n",
       "      <th>IsActiveMember</th>\n",
       "      <th>EstimatedSalary</th>\n",
       "      <th>Exited</th>\n",
       "    </tr>\n",
       "  </thead>\n",
       "  <tbody>\n",
       "    <tr>\n",
       "      <th>count</th>\n",
       "      <td>10000.00000</td>\n",
       "      <td>1.000000e+04</td>\n",
       "      <td>10000.000000</td>\n",
       "      <td>10000.000000</td>\n",
       "      <td>10000.000000</td>\n",
       "      <td>10000.000000</td>\n",
       "      <td>10000.000000</td>\n",
       "      <td>10000.00000</td>\n",
       "      <td>10000.000000</td>\n",
       "      <td>10000.000000</td>\n",
       "      <td>10000.000000</td>\n",
       "    </tr>\n",
       "    <tr>\n",
       "      <th>mean</th>\n",
       "      <td>5000.50000</td>\n",
       "      <td>1.569094e+07</td>\n",
       "      <td>650.528800</td>\n",
       "      <td>38.921800</td>\n",
       "      <td>5.012800</td>\n",
       "      <td>76485.889288</td>\n",
       "      <td>1.530200</td>\n",
       "      <td>0.70550</td>\n",
       "      <td>0.515100</td>\n",
       "      <td>100090.239881</td>\n",
       "      <td>0.203700</td>\n",
       "    </tr>\n",
       "    <tr>\n",
       "      <th>std</th>\n",
       "      <td>2886.89568</td>\n",
       "      <td>7.193619e+04</td>\n",
       "      <td>96.653299</td>\n",
       "      <td>10.487806</td>\n",
       "      <td>2.892174</td>\n",
       "      <td>62397.405202</td>\n",
       "      <td>0.581654</td>\n",
       "      <td>0.45584</td>\n",
       "      <td>0.499797</td>\n",
       "      <td>57510.492818</td>\n",
       "      <td>0.402769</td>\n",
       "    </tr>\n",
       "    <tr>\n",
       "      <th>min</th>\n",
       "      <td>1.00000</td>\n",
       "      <td>1.556570e+07</td>\n",
       "      <td>350.000000</td>\n",
       "      <td>18.000000</td>\n",
       "      <td>0.000000</td>\n",
       "      <td>0.000000</td>\n",
       "      <td>1.000000</td>\n",
       "      <td>0.00000</td>\n",
       "      <td>0.000000</td>\n",
       "      <td>11.580000</td>\n",
       "      <td>0.000000</td>\n",
       "    </tr>\n",
       "    <tr>\n",
       "      <th>25%</th>\n",
       "      <td>2500.75000</td>\n",
       "      <td>1.562853e+07</td>\n",
       "      <td>584.000000</td>\n",
       "      <td>32.000000</td>\n",
       "      <td>3.000000</td>\n",
       "      <td>0.000000</td>\n",
       "      <td>1.000000</td>\n",
       "      <td>0.00000</td>\n",
       "      <td>0.000000</td>\n",
       "      <td>51002.110000</td>\n",
       "      <td>0.000000</td>\n",
       "    </tr>\n",
       "    <tr>\n",
       "      <th>50%</th>\n",
       "      <td>5000.50000</td>\n",
       "      <td>1.569074e+07</td>\n",
       "      <td>652.000000</td>\n",
       "      <td>37.000000</td>\n",
       "      <td>5.000000</td>\n",
       "      <td>97198.540000</td>\n",
       "      <td>1.000000</td>\n",
       "      <td>1.00000</td>\n",
       "      <td>1.000000</td>\n",
       "      <td>100193.915000</td>\n",
       "      <td>0.000000</td>\n",
       "    </tr>\n",
       "    <tr>\n",
       "      <th>75%</th>\n",
       "      <td>7500.25000</td>\n",
       "      <td>1.575323e+07</td>\n",
       "      <td>718.000000</td>\n",
       "      <td>44.000000</td>\n",
       "      <td>7.000000</td>\n",
       "      <td>127644.240000</td>\n",
       "      <td>2.000000</td>\n",
       "      <td>1.00000</td>\n",
       "      <td>1.000000</td>\n",
       "      <td>149388.247500</td>\n",
       "      <td>0.000000</td>\n",
       "    </tr>\n",
       "    <tr>\n",
       "      <th>max</th>\n",
       "      <td>10000.00000</td>\n",
       "      <td>1.581569e+07</td>\n",
       "      <td>850.000000</td>\n",
       "      <td>92.000000</td>\n",
       "      <td>10.000000</td>\n",
       "      <td>250898.090000</td>\n",
       "      <td>4.000000</td>\n",
       "      <td>1.00000</td>\n",
       "      <td>1.000000</td>\n",
       "      <td>199992.480000</td>\n",
       "      <td>1.000000</td>\n",
       "    </tr>\n",
       "  </tbody>\n",
       "</table>\n",
       "</div>"
      ],
      "text/plain": [
       "         RowNumber    CustomerId   CreditScore           Age        Tenure  \\\n",
       "count  10000.00000  1.000000e+04  10000.000000  10000.000000  10000.000000   \n",
       "mean    5000.50000  1.569094e+07    650.528800     38.921800      5.012800   \n",
       "std     2886.89568  7.193619e+04     96.653299     10.487806      2.892174   \n",
       "min        1.00000  1.556570e+07    350.000000     18.000000      0.000000   \n",
       "25%     2500.75000  1.562853e+07    584.000000     32.000000      3.000000   \n",
       "50%     5000.50000  1.569074e+07    652.000000     37.000000      5.000000   \n",
       "75%     7500.25000  1.575323e+07    718.000000     44.000000      7.000000   \n",
       "max    10000.00000  1.581569e+07    850.000000     92.000000     10.000000   \n",
       "\n",
       "             Balance  NumOfProducts    HasCrCard  IsActiveMember  \\\n",
       "count   10000.000000   10000.000000  10000.00000    10000.000000   \n",
       "mean    76485.889288       1.530200      0.70550        0.515100   \n",
       "std     62397.405202       0.581654      0.45584        0.499797   \n",
       "min         0.000000       1.000000      0.00000        0.000000   \n",
       "25%         0.000000       1.000000      0.00000        0.000000   \n",
       "50%     97198.540000       1.000000      1.00000        1.000000   \n",
       "75%    127644.240000       2.000000      1.00000        1.000000   \n",
       "max    250898.090000       4.000000      1.00000        1.000000   \n",
       "\n",
       "       EstimatedSalary        Exited  \n",
       "count     10000.000000  10000.000000  \n",
       "mean     100090.239881      0.203700  \n",
       "std       57510.492818      0.402769  \n",
       "min          11.580000      0.000000  \n",
       "25%       51002.110000      0.000000  \n",
       "50%      100193.915000      0.000000  \n",
       "75%      149388.247500      0.000000  \n",
       "max      199992.480000      1.000000  "
      ]
     },
     "execution_count": 5,
     "metadata": {},
     "output_type": "execute_result"
    }
   ],
   "source": [
    "dataset.describe()"
   ]
  },
  {
   "cell_type": "code",
   "execution_count": 6,
   "metadata": {},
   "outputs": [
    {
     "name": "stdout",
     "output_type": "stream",
     "text": [
      "<class 'pandas.core.frame.DataFrame'>\n",
      "RangeIndex: 10000 entries, 0 to 9999\n",
      "Data columns (total 14 columns):\n",
      " #   Column           Non-Null Count  Dtype  \n",
      "---  ------           --------------  -----  \n",
      " 0   RowNumber        10000 non-null  int64  \n",
      " 1   CustomerId       10000 non-null  int64  \n",
      " 2   Surname          10000 non-null  object \n",
      " 3   CreditScore      10000 non-null  int64  \n",
      " 4   Geography        10000 non-null  object \n",
      " 5   Gender           10000 non-null  object \n",
      " 6   Age              10000 non-null  int64  \n",
      " 7   Tenure           10000 non-null  int64  \n",
      " 8   Balance          10000 non-null  float64\n",
      " 9   NumOfProducts    10000 non-null  int64  \n",
      " 10  HasCrCard        10000 non-null  int64  \n",
      " 11  IsActiveMember   10000 non-null  int64  \n",
      " 12  EstimatedSalary  10000 non-null  float64\n",
      " 13  Exited           10000 non-null  int64  \n",
      "dtypes: float64(2), int64(9), object(3)\n",
      "memory usage: 1.1+ MB\n"
     ]
    }
   ],
   "source": [
    "dataset.info()"
   ]
  },
  {
   "cell_type": "code",
   "execution_count": 7,
   "metadata": {},
   "outputs": [
    {
     "data": {
      "text/plain": [
       "RowNumber          False\n",
       "CustomerId         False\n",
       "Surname            False\n",
       "CreditScore        False\n",
       "Geography          False\n",
       "Gender             False\n",
       "Age                False\n",
       "Tenure             False\n",
       "Balance            False\n",
       "NumOfProducts      False\n",
       "HasCrCard          False\n",
       "IsActiveMember     False\n",
       "EstimatedSalary    False\n",
       "Exited             False\n",
       "dtype: bool"
      ]
     },
     "execution_count": 7,
     "metadata": {},
     "output_type": "execute_result"
    }
   ],
   "source": [
    "dataset.isnull().any()"
   ]
  },
  {
   "cell_type": "code",
   "execution_count": 8,
   "metadata": {},
   "outputs": [
    {
     "data": {
      "text/plain": [
       "France     5014\n",
       "Germany    2509\n",
       "Spain      2477\n",
       "Name: Geography, dtype: int64"
      ]
     },
     "execution_count": 8,
     "metadata": {},
     "output_type": "execute_result"
    }
   ],
   "source": [
    "dataset.Geography.value_counts()"
   ]
  },
  {
   "cell_type": "code",
   "execution_count": 9,
   "metadata": {},
   "outputs": [
    {
     "data": {
      "text/plain": [
       "array(['France', 'Spain', 'Germany'], dtype=object)"
      ]
     },
     "execution_count": 9,
     "metadata": {},
     "output_type": "execute_result"
    }
   ],
   "source": [
    "dataset['Geography'].unique()"
   ]
  },
  {
   "cell_type": "code",
   "execution_count": 10,
   "metadata": {},
   "outputs": [],
   "source": [
    "import seaborn as sns"
   ]
  },
  {
   "cell_type": "code",
   "execution_count": 11,
   "metadata": {},
   "outputs": [
    {
     "data": {
      "text/plain": [
       "<AxesSubplot:xlabel='Geography', ylabel='count'>"
      ]
     },
     "execution_count": 11,
     "metadata": {},
     "output_type": "execute_result"
    },
    {
     "data": {
      "image/png": "[encoded data removed]",
      "text/plain": [
       "<Figure size 432x288 with 1 Axes>"
      ]
     },
     "metadata": {
      "needs_background": "light"
     },
     "output_type": "display_data"
    }
   ],
   "source": [
    "sns.countplot(x=dataset.Geography)"
   ]
  },
  {
   "cell_type": "code",
   "execution_count": 12,
   "metadata": {},
   "outputs": [
    {
     "data": {
      "text/plain": [
       "<AxesSubplot:xlabel='Gender', ylabel='count'>"
      ]
     },
     "execution_count": 12,
     "metadata": {},
     "output_type": "execute_result"
    },
    {
     "data": {
      "image/png": "[encoded data removed]",
      "text/plain": [
       "<Figure size 432x288 with 1 Axes>"
      ]
     },
     "metadata": {
      "needs_background": "light"
     },
     "output_type": "display_data"
    }
   ],
   "source": [
    "sns.countplot(x=dataset.Gender)"
   ]
  },
  {
   "cell_type": "code",
   "execution_count": 13,
   "metadata": {},
   "outputs": [],
   "source": [
    "X = dataset.iloc[:, 3:13]\n",
    "y = dataset.iloc[:, 13]"
   ]
  },
  {
   "cell_type": "code",
   "execution_count": 14,
   "metadata": {},
   "outputs": [],
   "source": [
    "#Create dummy variables\n",
    "geography=pd.get_dummies(X[\"Geography\"],drop_first=True)\n",
    "gender=pd.get_dummies(X['Gender'],drop_first=True)"
   ]
  },
  {
   "cell_type": "code",
   "execution_count": 15,
   "metadata": {},
   "outputs": [],
   "source": [
    "## Concatenate the Data Frames\n",
    "\n",
    "X=pd.concat([X,geography,gender],axis=1)"
   ]
  },
  {
   "cell_type": "code",
   "execution_count": 16,
   "metadata": {},
   "outputs": [],
   "source": [
    "## Drop Unnecessary columns\n",
    "X=X.drop(['Geography','Gender'],axis=1)"
   ]
  },
  {
   "cell_type": "code",
   "execution_count": 17,
   "metadata": {},
   "outputs": [
    {
     "data": {
      "text/html": [
       "<div>\n",
       "<style scoped>\n",
       "    .dataframe tbody tr th:only-of-type {\n",
       "        vertical-align: middle;\n",
       "    }\n",
       "\n",
       "    .dataframe tbody tr th {\n",
       "        vertical-align: top;\n",
       "    }\n",
       "\n",
       "    .dataframe thead th {\n",
       "        text-align: right;\n",
       "    }\n",
       "</style>\n",
       "<table border=\"1\" class=\"dataframe\">\n",
       "  <thead>\n",
       "    <tr style=\"text-align: right;\">\n",
       "      <th></th>\n",
       "      <th>CreditScore</th>\n",
       "      <th>Age</th>\n",
       "      <th>Tenure</th>\n",
       "      <th>Balance</th>\n",
       "      <th>NumOfProducts</th>\n",
       "      <th>HasCrCard</th>\n",
       "      <th>IsActiveMember</th>\n",
       "      <th>EstimatedSalary</th>\n",
       "      <th>Germany</th>\n",
       "      <th>Spain</th>\n",
       "      <th>Male</th>\n",
       "    </tr>\n",
       "  </thead>\n",
       "  <tbody>\n",
       "    <tr>\n",
       "      <th>0</th>\n",
       "      <td>619</td>\n",
       "      <td>42</td>\n",
       "      <td>2</td>\n",
       "      <td>0.00</td>\n",
       "      <td>1</td>\n",
       "      <td>1</td>\n",
       "      <td>1</td>\n",
       "      <td>101348.88</td>\n",
       "      <td>0</td>\n",
       "      <td>0</td>\n",
       "      <td>0</td>\n",
       "    </tr>\n",
       "    <tr>\n",
       "      <th>1</th>\n",
       "      <td>608</td>\n",
       "      <td>41</td>\n",
       "      <td>1</td>\n",
       "      <td>83807.86</td>\n",
       "      <td>1</td>\n",
       "      <td>0</td>\n",
       "      <td>1</td>\n",
       "      <td>112542.58</td>\n",
       "      <td>0</td>\n",
       "      <td>1</td>\n",
       "      <td>0</td>\n",
       "    </tr>\n",
       "    <tr>\n",
       "      <th>2</th>\n",
       "      <td>502</td>\n",
       "      <td>42</td>\n",
       "      <td>8</td>\n",
       "      <td>159660.80</td>\n",
       "      <td>3</td>\n",
       "      <td>1</td>\n",
       "      <td>0</td>\n",
       "      <td>113931.57</td>\n",
       "      <td>0</td>\n",
       "      <td>0</td>\n",
       "      <td>0</td>\n",
       "    </tr>\n",
       "    <tr>\n",
       "      <th>3</th>\n",
       "      <td>699</td>\n",
       "      <td>39</td>\n",
       "      <td>1</td>\n",
       "      <td>0.00</td>\n",
       "      <td>2</td>\n",
       "      <td>0</td>\n",
       "      <td>0</td>\n",
       "      <td>93826.63</td>\n",
       "      <td>0</td>\n",
       "      <td>0</td>\n",
       "      <td>0</td>\n",
       "    </tr>\n",
       "    <tr>\n",
       "      <th>4</th>\n",
       "      <td>850</td>\n",
       "      <td>43</td>\n",
       "      <td>2</td>\n",
       "      <td>125510.82</td>\n",
       "      <td>1</td>\n",
       "      <td>1</td>\n",
       "      <td>1</td>\n",
       "      <td>79084.10</td>\n",
       "      <td>0</td>\n",
       "      <td>1</td>\n",
       "      <td>0</td>\n",
       "    </tr>\n",
       "  </tbody>\n",
       "</table>\n",
       "</div>"
      ],
      "text/plain": [
       "   CreditScore  Age  Tenure    Balance  NumOfProducts  HasCrCard  \\\n",
       "0          619   42       2       0.00              1          1   \n",
       "1          608   41       1   83807.86              1          0   \n",
       "2          502   42       8  159660.80              3          1   \n",
       "3          699   39       1       0.00              2          0   \n",
       "4          850   43       2  125510.82              1          1   \n",
       "\n",
       "   IsActiveMember  EstimatedSalary  Germany  Spain  Male  \n",
       "0               1        101348.88        0      0     0  \n",
       "1               1        112542.58        0      1     0  \n",
       "2               0        113931.57        0      0     0  \n",
       "3               0         93826.63        0      0     0  \n",
       "4               1         79084.10        0      1     0  "
      ]
     },
     "execution_count": 17,
     "metadata": {},
     "output_type": "execute_result"
    }
   ],
   "source": [
    "X.head()"
   ]
  },
  {
   "cell_type": "code",
   "execution_count": 18,
   "metadata": {},
   "outputs": [
    {
     "data": {
      "text/plain": [
       "CreditScore          int64\n",
       "Age                  int64\n",
       "Tenure               int64\n",
       "Balance            float64\n",
       "NumOfProducts        int64\n",
       "HasCrCard            int64\n",
       "IsActiveMember       int64\n",
       "EstimatedSalary    float64\n",
       "Germany              uint8\n",
       "Spain                uint8\n",
       "Male                 uint8\n",
       "dtype: object"
      ]
     },
     "execution_count": 18,
     "metadata": {},
     "output_type": "execute_result"
    }
   ],
   "source": [
    "X.dtypes"
   ]
  },
  {
   "cell_type": "code",
   "execution_count": 19,
   "metadata": {},
   "outputs": [],
   "source": [
    "# Splitting the dataset into the Training set and Test set\n",
    "from sklearn.model_selection import train_test_split\n",
    "X_train, X_test, y_train, y_test = train_test_split(X, y, test_size = 0.2, random_state = 0)"
   ]
  },
  {
   "cell_type": "code",
   "execution_count": 20,
   "metadata": {},
   "outputs": [],
   "source": [
    "# Feature Scaling\n",
    "from sklearn.preprocessing import StandardScaler\n",
    "sc = StandardScaler()"
   ]
  },
  {
   "cell_type": "code",
   "execution_count": 21,
   "metadata": {},
   "outputs": [],
   "source": [
    "X_train = sc.fit_transform(X_train)\n",
    "X_test = sc.transform(X_test)"
   ]
  },
  {
   "cell_type": "code",
   "execution_count": 22,
   "metadata": {},
   "outputs": [
    {
     "name": "stderr",
     "output_type": "stream",
     "text": [
      "Using TensorFlow backend.\n"
     ]
    }
   ],
   "source": [
    "# Part 2 - Now let's make the ANN!\n",
    "\n",
    "# Importing the Keras libraries and packages\n",
    "import keras\n",
    "from keras.models import Sequential\n",
    "from keras.layers import Dense\n",
    "from keras.layers import LeakyReLU,PReLU,ELU\n",
    "from keras.layers import Dropout"
   ]
  },
  {
   "cell_type": "code",
   "execution_count": 23,
   "metadata": {},
   "outputs": [],
   "source": [
    "# Initialising the ANN\n",
    "classifier = Sequential()"
   ]
  },
  {
   "cell_type": "code",
   "execution_count": 24,
   "metadata": {},
   "outputs": [],
   "source": [
    "# Adding the input layer and the first hidden layer\n",
    "classifier.add(Dense(units = 6, kernel_initializer = 'he_uniform',activation='relu',input_dim = 11))"
   ]
  },
  {
   "cell_type": "code",
   "execution_count": 25,
   "metadata": {},
   "outputs": [],
   "source": [
    "# Adding the second hidden layer\n",
    "classifier.add(Dense(units = 6, kernel_initializer = 'he_uniform',activation='relu'))"
   ]
  },
  {
   "cell_type": "code",
   "execution_count": 26,
   "metadata": {},
   "outputs": [],
   "source": [
    "# Adding the output layer\n",
    "classifier.add(Dense(units = 1, kernel_initializer = 'glorot_uniform', activation = 'sigmoid'))"
   ]
  },
  {
   "cell_type": "code",
   "execution_count": 27,
   "metadata": {},
   "outputs": [
    {
     "name": "stdout",
     "output_type": "stream",
     "text": [
      "Model: \"sequential_1\"\n",
      "_________________________________________________________________\n",
      "Layer (type)                 Output Shape              Param #   \n",
      "=================================================================\n",
      "dense_1 (Dense)              (None, 6)                 72        \n",
      "_________________________________________________________________\n",
      "dense_2 (Dense)              (None, 6)                 42        \n",
      "_________________________________________________________________\n",
      "dense_3 (Dense)              (None, 1)                 7         \n",
      "=================================================================\n",
      "Total params: 121\n",
      "Trainable params: 121\n",
      "Non-trainable params: 0\n",
      "_________________________________________________________________\n"
     ]
    }
   ],
   "source": [
    "classifier.summary()"
   ]
  },
  {
   "cell_type": "code",
   "execution_count": 28,
   "metadata": {},
   "outputs": [],
   "source": [
    "# Compiling the ANN\n",
    "classifier.compile(optimizer = 'adam', loss = 'binary_crossentropy', metrics = ['accuracy'])"
   ]
  },
  {
   "cell_type": "code",
   "execution_count": 29,
   "metadata": {},
   "outputs": [
    {
     "name": "stderr",
     "output_type": "stream",
     "text": [
      "C:\\Users\\Ravindra\\anaconda3\\envs\\deeplearning\\lib\\site-packages\\ipykernel_launcher.py:2: UserWarning: The `nb_epoch` argument in `fit` has been renamed `epochs`.\n",
      "  \n"
     ]
    },
    {
     "name": "stdout",
     "output_type": "stream",
     "text": [
      "Train on 5359 samples, validate on 2641 samples\n",
      "Epoch 1/100\n",
      "5359/5359 [==============================] - 2s 428us/step - loss: 0.5465 - accuracy: 0.7619 - val_loss: 0.4848 - val_accuracy: 0.7936\n",
      "Epoch 2/100\n",
      "5359/5359 [==============================] - 1s 264us/step - loss: 0.4639 - accuracy: 0.7988 - val_loss: 0.4509 - val_accuracy: 0.7989\n",
      "Epoch 3/100\n",
      "5359/5359 [==============================] - 1s 267us/step - loss: 0.4340 - accuracy: 0.8082 - val_loss: 0.4271 - val_accuracy: 0.8039\n",
      "Epoch 4/100\n",
      "5359/5359 [==============================] - 1s 269us/step - loss: 0.4104 - accuracy: 0.8173 - val_loss: 0.4078 - val_accuracy: 0.8179\n",
      "Epoch 5/100\n",
      "5359/5359 [==============================] - 1s 263us/step - loss: 0.3920 - accuracy: 0.8302 - val_loss: 0.3943 - val_accuracy: 0.8277\n",
      "Epoch 6/100\n",
      "5359/5359 [==============================] - 1s 265us/step - loss: 0.3779 - accuracy: 0.8339 - val_loss: 0.3845 - val_accuracy: 0.8357\n",
      "Epoch 7/100\n",
      "5359/5359 [==============================] - 1s 260us/step - loss: 0.3685 - accuracy: 0.8431 - val_loss: 0.3790 - val_accuracy: 0.8387\n",
      "Epoch 8/100\n",
      "5359/5359 [==============================] - 1s 261us/step - loss: 0.3627 - accuracy: 0.8442 - val_loss: 0.3749 - val_accuracy: 0.8470\n",
      "Epoch 9/100\n",
      "5359/5359 [==============================] - 1s 267us/step - loss: 0.3582 - accuracy: 0.8485 - val_loss: 0.3718 - val_accuracy: 0.8508\n",
      "Epoch 10/100\n",
      "5359/5359 [==============================] - 1s 269us/step - loss: 0.3544 - accuracy: 0.8509 - val_loss: 0.3696 - val_accuracy: 0.8535\n",
      "Epoch 11/100\n",
      "5359/5359 [==============================] - 1s 262us/step - loss: 0.3505 - accuracy: 0.8522 - val_loss: 0.3705 - val_accuracy: 0.8519\n",
      "Epoch 12/100\n",
      "5359/5359 [==============================] - 1s 268us/step - loss: 0.3481 - accuracy: 0.8526 - val_loss: 0.3655 - val_accuracy: 0.8531\n",
      "Epoch 13/100\n",
      "5359/5359 [==============================] - 1s 268us/step - loss: 0.3456 - accuracy: 0.8522 - val_loss: 0.3644 - val_accuracy: 0.8531\n",
      "Epoch 14/100\n",
      "5359/5359 [==============================] - 1s 244us/step - loss: 0.3425 - accuracy: 0.8546 - val_loss: 0.3625 - val_accuracy: 0.8542\n",
      "Epoch 15/100\n",
      "5359/5359 [==============================] - 2s 280us/step - loss: 0.3405 - accuracy: 0.8567 - val_loss: 0.3623 - val_accuracy: 0.8542\n",
      "Epoch 16/100\n",
      "5359/5359 [==============================] - 2s 280us/step - loss: 0.3386 - accuracy: 0.8582 - val_loss: 0.3590 - val_accuracy: 0.8546\n",
      "Epoch 17/100\n",
      "5359/5359 [==============================] - 2s 291us/step - loss: 0.3370 - accuracy: 0.8565 - val_loss: 0.3588 - val_accuracy: 0.8542\n",
      "Epoch 18/100\n",
      "5359/5359 [==============================] - 2s 287us/step - loss: 0.3358 - accuracy: 0.8582 - val_loss: 0.3593 - val_accuracy: 0.8538\n",
      "Epoch 19/100\n",
      "5359/5359 [==============================] - 1s 272us/step - loss: 0.3351 - accuracy: 0.8595 - val_loss: 0.3572 - val_accuracy: 0.8557\n",
      "Epoch 20/100\n",
      "5359/5359 [==============================] - 2s 283us/step - loss: 0.3335 - accuracy: 0.8580 - val_loss: 0.3553 - val_accuracy: 0.8576\n",
      "Epoch 21/100\n",
      "5359/5359 [==============================] - 2s 285us/step - loss: 0.3327 - accuracy: 0.8591 - val_loss: 0.3550 - val_accuracy: 0.8576\n",
      "Epoch 22/100\n",
      "5359/5359 [==============================] - 2s 283us/step - loss: 0.3323 - accuracy: 0.8584 - val_loss: 0.3556 - val_accuracy: 0.8561\n",
      "Epoch 23/100\n",
      "5359/5359 [==============================] - 1s 278us/step - loss: 0.3314 - accuracy: 0.8591 - val_loss: 0.3564 - val_accuracy: 0.8591\n",
      "Epoch 24/100\n",
      "5359/5359 [==============================] - 1s 269us/step - loss: 0.3312 - accuracy: 0.8589 - val_loss: 0.3550 - val_accuracy: 0.8569\n",
      "Epoch 25/100\n",
      "5359/5359 [==============================] - 1s 278us/step - loss: 0.3305 - accuracy: 0.8595 - val_loss: 0.3544 - val_accuracy: 0.8588\n",
      "Epoch 26/100\n",
      "5359/5359 [==============================] - 2s 283us/step - loss: 0.3296 - accuracy: 0.8599 - val_loss: 0.3546 - val_accuracy: 0.8599\n",
      "Epoch 27/100\n",
      "5359/5359 [==============================] - 1s 269us/step - loss: 0.3296 - accuracy: 0.8627 - val_loss: 0.3545 - val_accuracy: 0.8573\n",
      "Epoch 28/100\n",
      "5359/5359 [==============================] - 1s 268us/step - loss: 0.3289 - accuracy: 0.8627 - val_loss: 0.3547 - val_accuracy: 0.8576\n",
      "Epoch 29/100\n",
      "5359/5359 [==============================] - 1s 275us/step - loss: 0.3281 - accuracy: 0.8619 - val_loss: 0.3545 - val_accuracy: 0.8576\n",
      "Epoch 30/100\n",
      "5359/5359 [==============================] - 2s 281us/step - loss: 0.3283 - accuracy: 0.8614 - val_loss: 0.3542 - val_accuracy: 0.8591\n",
      "Epoch 31/100\n",
      "5359/5359 [==============================] - 1s 279us/step - loss: 0.3279 - accuracy: 0.8615 - val_loss: 0.3547 - val_accuracy: 0.8610\n",
      "Epoch 32/100\n",
      "5359/5359 [==============================] - 1s 278us/step - loss: 0.3275 - accuracy: 0.8627 - val_loss: 0.3541 - val_accuracy: 0.8599\n",
      "Epoch 33/100\n",
      "5359/5359 [==============================] - 1s 278us/step - loss: 0.3272 - accuracy: 0.8617 - val_loss: 0.3542 - val_accuracy: 0.8607\n",
      "Epoch 34/100\n",
      "5359/5359 [==============================] - 1s 274us/step - loss: 0.3269 - accuracy: 0.8627 - val_loss: 0.3544 - val_accuracy: 0.8595\n",
      "Epoch 35/100\n",
      "5359/5359 [==============================] - 1s 272us/step - loss: 0.3268 - accuracy: 0.8623 - val_loss: 0.3550 - val_accuracy: 0.8595\n",
      "Epoch 36/100\n",
      "5359/5359 [==============================] - 1s 280us/step - loss: 0.3264 - accuracy: 0.8623 - val_loss: 0.3539 - val_accuracy: 0.8595\n",
      "Epoch 37/100\n",
      "5359/5359 [==============================] - 1s 276us/step - loss: 0.3260 - accuracy: 0.8625 - val_loss: 0.3538 - val_accuracy: 0.8595\n",
      "Epoch 38/100\n",
      "5359/5359 [==============================] - 1s 274us/step - loss: 0.3259 - accuracy: 0.8642 - val_loss: 0.3559 - val_accuracy: 0.8576\n",
      "Epoch 39/100\n",
      "5359/5359 [==============================] - 1s 278us/step - loss: 0.3260 - accuracy: 0.8628 - val_loss: 0.3539 - val_accuracy: 0.8576\n",
      "Epoch 40/100\n",
      "5359/5359 [==============================] - 2s 283us/step - loss: 0.3254 - accuracy: 0.8628 - val_loss: 0.3551 - val_accuracy: 0.8614\n",
      "Epoch 41/100\n",
      "5359/5359 [==============================] - 1s 256us/step - loss: 0.3252 - accuracy: 0.8653 - val_loss: 0.3537 - val_accuracy: 0.8584\n",
      "Epoch 42/100\n",
      "5359/5359 [==============================] - 1s 279us/step - loss: 0.3254 - accuracy: 0.8623 - val_loss: 0.3549 - val_accuracy: 0.8610\n",
      "Epoch 43/100\n",
      "5359/5359 [==============================] - 1s 273us/step - loss: 0.3252 - accuracy: 0.8643 - val_loss: 0.3540 - val_accuracy: 0.8591\n",
      "Epoch 44/100\n",
      "5359/5359 [==============================] - 1s 278us/step - loss: 0.3245 - accuracy: 0.8640 - val_loss: 0.3539 - val_accuracy: 0.8591\n",
      "Epoch 45/100\n",
      "5359/5359 [==============================] - 1s 271us/step - loss: 0.3248 - accuracy: 0.8630 - val_loss: 0.3533 - val_accuracy: 0.8576\n",
      "Epoch 46/100\n",
      "5359/5359 [==============================] - 1s 277us/step - loss: 0.3249 - accuracy: 0.8653 - val_loss: 0.3541 - val_accuracy: 0.8565\n",
      "Epoch 47/100\n",
      "5359/5359 [==============================] - 1s 266us/step - loss: 0.3243 - accuracy: 0.8645 - val_loss: 0.3545 - val_accuracy: 0.8591\n",
      "Epoch 48/100\n",
      "5359/5359 [==============================] - 1s 269us/step - loss: 0.3243 - accuracy: 0.8636 - val_loss: 0.3547 - val_accuracy: 0.8588\n",
      "Epoch 49/100\n",
      "5359/5359 [==============================] - 1s 256us/step - loss: 0.3246 - accuracy: 0.8632 - val_loss: 0.3539 - val_accuracy: 0.8595\n",
      "Epoch 50/100\n",
      "5359/5359 [==============================] - 1s 253us/step - loss: 0.3235 - accuracy: 0.8643 - val_loss: 0.3546 - val_accuracy: 0.8576\n",
      "Epoch 51/100\n",
      "5359/5359 [==============================] - 1s 271us/step - loss: 0.3242 - accuracy: 0.8653 - val_loss: 0.3553 - val_accuracy: 0.8591\n",
      "Epoch 52/100\n",
      "5359/5359 [==============================] - 1s 275us/step - loss: 0.3242 - accuracy: 0.8651 - val_loss: 0.3531 - val_accuracy: 0.8610\n",
      "Epoch 53/100\n",
      "5359/5359 [==============================] - 1s 273us/step - loss: 0.3238 - accuracy: 0.8638 - val_loss: 0.3542 - val_accuracy: 0.8573\n",
      "Epoch 54/100\n",
      "5359/5359 [==============================] - 1s 279us/step - loss: 0.3234 - accuracy: 0.8643 - val_loss: 0.3530 - val_accuracy: 0.8607\n",
      "Epoch 55/100\n",
      "5359/5359 [==============================] - 1s 264us/step - loss: 0.3238 - accuracy: 0.8658 - val_loss: 0.3540 - val_accuracy: 0.8603\n",
      "Epoch 56/100\n"
     ]
    },
    {
     "name": "stdout",
     "output_type": "stream",
     "text": [
      "5359/5359 [==============================] - 1s 280us/step - loss: 0.3236 - accuracy: 0.8634 - val_loss: 0.3526 - val_accuracy: 0.8580\n",
      "Epoch 57/100\n",
      "5359/5359 [==============================] - 1s 276us/step - loss: 0.3228 - accuracy: 0.8653 - val_loss: 0.3528 - val_accuracy: 0.8554\n",
      "Epoch 58/100\n",
      "5359/5359 [==============================] - 2s 287us/step - loss: 0.3230 - accuracy: 0.8632 - val_loss: 0.3538 - val_accuracy: 0.8584\n",
      "Epoch 59/100\n",
      "5359/5359 [==============================] - 1s 278us/step - loss: 0.3229 - accuracy: 0.8647 - val_loss: 0.3549 - val_accuracy: 0.8591\n",
      "Epoch 60/100\n",
      "5359/5359 [==============================] - 1s 268us/step - loss: 0.3227 - accuracy: 0.8642 - val_loss: 0.3534 - val_accuracy: 0.8580\n",
      "Epoch 61/100\n",
      "5359/5359 [==============================] - 1s 215us/step - loss: 0.3225 - accuracy: 0.8653 - val_loss: 0.3538 - val_accuracy: 0.8595\n",
      "Epoch 62/100\n",
      "5359/5359 [==============================] - 1s 241us/step - loss: 0.3230 - accuracy: 0.8630 - val_loss: 0.3534 - val_accuracy: 0.8599\n",
      "Epoch 63/100\n",
      "5359/5359 [==============================] - 1s 252us/step - loss: 0.3222 - accuracy: 0.8658 - val_loss: 0.3533 - val_accuracy: 0.8573\n",
      "Epoch 64/100\n",
      "5359/5359 [==============================] - 1s 275us/step - loss: 0.3225 - accuracy: 0.8647 - val_loss: 0.3540 - val_accuracy: 0.8576\n",
      "Epoch 65/100\n",
      "5359/5359 [==============================] - 2s 280us/step - loss: 0.3222 - accuracy: 0.8671 - val_loss: 0.3553 - val_accuracy: 0.8603\n",
      "Epoch 66/100\n",
      "5359/5359 [==============================] - 2s 281us/step - loss: 0.3225 - accuracy: 0.8662 - val_loss: 0.3539 - val_accuracy: 0.8591\n",
      "Epoch 67/100\n",
      "5359/5359 [==============================] - 1s 275us/step - loss: 0.3221 - accuracy: 0.8666 - val_loss: 0.3533 - val_accuracy: 0.8595\n",
      "Epoch 68/100\n",
      "5359/5359 [==============================] - 2s 289us/step - loss: 0.3223 - accuracy: 0.8658 - val_loss: 0.3532 - val_accuracy: 0.8576\n",
      "Epoch 69/100\n",
      "5359/5359 [==============================] - 2s 289us/step - loss: 0.3221 - accuracy: 0.8638 - val_loss: 0.3538 - val_accuracy: 0.8595\n",
      "Epoch 70/100\n",
      "5359/5359 [==============================] - 2s 280us/step - loss: 0.3219 - accuracy: 0.8673 - val_loss: 0.3533 - val_accuracy: 0.8580\n",
      "Epoch 71/100\n",
      "5359/5359 [==============================] - 2s 282us/step - loss: 0.3223 - accuracy: 0.8634 - val_loss: 0.3526 - val_accuracy: 0.8546\n",
      "Epoch 72/100\n",
      "5359/5359 [==============================] - 2s 283us/step - loss: 0.3220 - accuracy: 0.8651 - val_loss: 0.3527 - val_accuracy: 0.8595\n",
      "Epoch 73/100\n",
      "5359/5359 [==============================] - 2s 281us/step - loss: 0.3222 - accuracy: 0.8649 - val_loss: 0.3525 - val_accuracy: 0.8595\n",
      "Epoch 74/100\n",
      "5359/5359 [==============================] - 1s 280us/step - loss: 0.3219 - accuracy: 0.8651 - val_loss: 0.3523 - val_accuracy: 0.8573\n",
      "Epoch 75/100\n",
      "5359/5359 [==============================] - 2s 298us/step - loss: 0.3219 - accuracy: 0.8651 - val_loss: 0.3529 - val_accuracy: 0.8588\n",
      "Epoch 76/100\n",
      "5359/5359 [==============================] - 2s 281us/step - loss: 0.3216 - accuracy: 0.8668 - val_loss: 0.3536 - val_accuracy: 0.8607\n",
      "Epoch 77/100\n",
      "5359/5359 [==============================] - 2s 285us/step - loss: 0.3220 - accuracy: 0.8653 - val_loss: 0.3526 - val_accuracy: 0.8573\n",
      "Epoch 78/100\n",
      "5359/5359 [==============================] - 1s 279us/step - loss: 0.3219 - accuracy: 0.8649 - val_loss: 0.3526 - val_accuracy: 0.8584\n",
      "Epoch 79/100\n",
      "5359/5359 [==============================] - 2s 284us/step - loss: 0.3215 - accuracy: 0.8671 - val_loss: 0.3533 - val_accuracy: 0.8595\n",
      "Epoch 80/100\n",
      "5359/5359 [==============================] - 1s 274us/step - loss: 0.3216 - accuracy: 0.8651 - val_loss: 0.3526 - val_accuracy: 0.8591\n",
      "Epoch 81/100\n",
      "5359/5359 [==============================] - 2s 282us/step - loss: 0.3212 - accuracy: 0.8662 - val_loss: 0.3531 - val_accuracy: 0.8603\n",
      "Epoch 82/100\n",
      "5359/5359 [==============================] - 1s 278us/step - loss: 0.3216 - accuracy: 0.8647 - val_loss: 0.3532 - val_accuracy: 0.8599\n",
      "Epoch 83/100\n",
      "5359/5359 [==============================] - 2s 281us/step - loss: 0.3209 - accuracy: 0.8688 - val_loss: 0.3540 - val_accuracy: 0.8607\n",
      "Epoch 84/100\n",
      "5359/5359 [==============================] - 1s 278us/step - loss: 0.3214 - accuracy: 0.8668 - val_loss: 0.3532 - val_accuracy: 0.8595\n",
      "Epoch 85/100\n",
      "5359/5359 [==============================] - 2s 282us/step - loss: 0.3212 - accuracy: 0.8655 - val_loss: 0.3520 - val_accuracy: 0.8584\n",
      "Epoch 86/100\n",
      "5359/5359 [==============================] - 2s 281us/step - loss: 0.3210 - accuracy: 0.8668 - val_loss: 0.3529 - val_accuracy: 0.8561\n",
      "Epoch 87/100\n",
      "5359/5359 [==============================] - 1s 276us/step - loss: 0.3213 - accuracy: 0.8655 - val_loss: 0.3528 - val_accuracy: 0.8599\n",
      "Epoch 88/100\n",
      "5359/5359 [==============================] - 2s 281us/step - loss: 0.3216 - accuracy: 0.8647 - val_loss: 0.3525 - val_accuracy: 0.8595\n",
      "Epoch 89/100\n",
      "5359/5359 [==============================] - 1s 280us/step - loss: 0.3209 - accuracy: 0.8670 - val_loss: 0.3523 - val_accuracy: 0.8576\n",
      "Epoch 90/100\n",
      "5359/5359 [==============================] - 2s 284us/step - loss: 0.3214 - accuracy: 0.8662 - val_loss: 0.3524 - val_accuracy: 0.8591\n",
      "Epoch 91/100\n",
      "5359/5359 [==============================] - 1s 279us/step - loss: 0.3209 - accuracy: 0.8670 - val_loss: 0.3536 - val_accuracy: 0.8595\n",
      "Epoch 92/100\n",
      "5359/5359 [==============================] - 1s 277us/step - loss: 0.3211 - accuracy: 0.8651 - val_loss: 0.3519 - val_accuracy: 0.8588\n",
      "Epoch 93/100\n",
      "5359/5359 [==============================] - 2s 283us/step - loss: 0.3207 - accuracy: 0.8668 - val_loss: 0.3540 - val_accuracy: 0.8607\n",
      "Epoch 94/100\n",
      "5359/5359 [==============================] - 2s 282us/step - loss: 0.3211 - accuracy: 0.8656 - val_loss: 0.3526 - val_accuracy: 0.8588\n",
      "Epoch 95/100\n",
      "5359/5359 [==============================] - 2s 280us/step - loss: 0.3205 - accuracy: 0.8656 - val_loss: 0.3544 - val_accuracy: 0.8607\n",
      "Epoch 96/100\n",
      "5359/5359 [==============================] - 1s 271us/step - loss: 0.3206 - accuracy: 0.8653 - val_loss: 0.3523 - val_accuracy: 0.8595\n",
      "Epoch 97/100\n",
      "5359/5359 [==============================] - 1s 276us/step - loss: 0.3210 - accuracy: 0.8662 - val_loss: 0.3514 - val_accuracy: 0.8591\n",
      "Epoch 98/100\n",
      "5359/5359 [==============================] - 2s 281us/step - loss: 0.3211 - accuracy: 0.8630 - val_loss: 0.3530 - val_accuracy: 0.8584\n",
      "Epoch 99/100\n",
      "5359/5359 [==============================] - 1s 278us/step - loss: 0.3210 - accuracy: 0.8684 - val_loss: 0.3515 - val_accuracy: 0.8607\n",
      "Epoch 100/100\n",
      "5359/5359 [==============================] - 2s 280us/step - loss: 0.3206 - accuracy: 0.8668 - val_loss: 0.3513 - val_accuracy: 0.8591\n"
     ]
    }
   ],
   "source": [
    "# Fitting the ANN to the Training set\n",
    "model_history=classifier.fit(X_train, y_train,validation_split=0.33, batch_size = 10, nb_epoch = 100)"
   ]
  },
  {
   "cell_type": "code",
   "execution_count": 30,
   "metadata": {},
   "outputs": [
    {
     "name": "stdout",
     "output_type": "stream",
     "text": [
      "dict_keys(['val_loss', 'val_accuracy', 'loss', 'accuracy'])\n"
     ]
    }
   ],
   "source": [
    "# list all data in history\n",
    "\n",
    "print(model_history.history.keys())"
   ]
  },
  {
   "cell_type": "code",
   "execution_count": 32,
   "metadata": {},
   "outputs": [
    {
     "data": {
      "image/png": "[encoded data removed]",
      "text/plain": [
       "<Figure size 432x288 with 1 Axes>"
      ]
     },
     "metadata": {
      "needs_background": "light"
     },
     "output_type": "display_data"
    }
   ],
   "source": [
    "# summarize history for accuracy\n",
    "plt.plot(model_history.history['accuracy'])\n",
    "plt.plot(model_history.history['val_accuracy'])\n",
    "plt.title('model accuracy')\n",
    "plt.ylabel('accuracy')\n",
    "plt.xlabel('epoch')\n",
    "plt.legend(['train', 'test'], loc='upper left')\n",
    "plt.show()"
   ]
  },
  {
   "cell_type": "code",
   "execution_count": 33,
   "metadata": {},
   "outputs": [
    {
     "data": {
      "image/png": "[encoded data removed]",
      "text/plain": [
       "<Figure size 432x288 with 1 Axes>"
      ]
     },
     "metadata": {
      "needs_background": "light"
     },
     "output_type": "display_data"
    }
   ],
   "source": [
    "# summarize history for loss\n",
    "plt.plot(model_history.history['loss'])\n",
    "plt.plot(model_history.history['val_loss'])\n",
    "plt.title('model loss')\n",
    "plt.ylabel('loss')\n",
    "plt.xlabel('epoch')\n",
    "plt.legend(['train', 'test'], loc='upper left')\n",
    "plt.show()"
   ]
  },
  {
   "cell_type": "code",
   "execution_count": 34,
   "metadata": {},
   "outputs": [],
   "source": [
    "# Part 3 - Making the predictions and evaluating the model\n",
    "\n",
    "# Predicting the Test set results\n",
    "y_pred = classifier.predict(X_test)\n",
    "y_pred = (y_pred > 0.5)"
   ]
  },
  {
   "cell_type": "code",
   "execution_count": 35,
   "metadata": {},
   "outputs": [
    {
     "data": {
      "text/plain": [
       "array([[1502,   93],\n",
       "       [ 185,  220]], dtype=int64)"
      ]
     },
     "execution_count": 35,
     "metadata": {},
     "output_type": "execute_result"
    }
   ],
   "source": [
    "# Making the Confusion Matrix\n",
    "from sklearn.metrics import confusion_matrix\n",
    "cm = confusion_matrix(y_test, y_pred)\n",
    "cm"
   ]
  },
  {
   "cell_type": "code",
   "execution_count": 36,
   "metadata": {},
   "outputs": [
    {
     "data": {
      "text/plain": [
       "0.861"
      ]
     },
     "execution_count": 36,
     "metadata": {},
     "output_type": "execute_result"
    }
   ],
   "source": [
    "# Calculate the Accuracy\n",
    "from sklearn.metrics import accuracy_score\n",
    "score=accuracy_score(y_pred,y_test)\n",
    "score"
   ]
  },
  {
   "cell_type": "code",
   "execution_count": null,
   "metadata": {},
   "outputs": [],
   "source": []
  }
 ],
 "metadata": {
  "kernelspec": {
   "display_name": "Python 3",
   "language": "python",
   "name": "python3"
  },
  "language_info": {
   "codemirror_mode": {
    "name": "ipython",
    "version": 3
   },
   "file_extension": ".py",
   "mimetype": "text/x-python",
   "name": "python",
   "nbconvert_exporter": "python",
   "pygments_lexer": "ipython3",
   "version": "3.6.12"
  }
 },
 "nbformat": 4,
 "nbformat_minor": 4
}
